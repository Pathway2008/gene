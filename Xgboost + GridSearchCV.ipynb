{
 "cells": [
  {
   "cell_type": "code",
   "execution_count": 1,
   "metadata": {},
   "outputs": [],
   "source": [
    "import pandas as pd\n",
    "import matplotlib.pyplot as plt\n",
    "\n",
    "from sklearn.preprocessing import LabelEncoder\n",
    "from sklearn import metrics\n",
    "from sklearn.model_selection import GridSearchCV\n",
    "from sklearn.model_selection import train_test_split\n",
    "\n",
    "import seaborn as sns\n",
    "\n",
    "import numpy as np\n",
    "\n",
    "import itertools\n",
    "from itertools import combinations\n",
    "\n",
    "import xgboost\n",
    "from xgboost import XGBClassifier\n"
   ]
  },
  {
   "attachments": {},
   "cell_type": "markdown",
   "metadata": {},
   "source": [
    "유전체 데이터 셋 불러오기"
   ]
  },
  {
   "cell_type": "code",
   "execution_count": 2,
   "metadata": {},
   "outputs": [],
   "source": [
    "train = pd.read_csv('train.csv')\n",
    "test = pd.read_csv('test.csv')"
   ]
  },
  {
   "attachments": {},
   "cell_type": "markdown",
   "metadata": {},
   "source": [
    "염색체 중에서 염기 서열의 종류 확인"
   ]
  },
  {
   "cell_type": "code",
   "execution_count": 3,
   "metadata": {},
   "outputs": [
    {
     "name": "stdout",
     "output_type": "stream",
     "text": [
      "[2 1]\n",
      "['G G' 'A G' 'A A']\n",
      "['A G' 'G G' 'A A']\n",
      "['A A' 'C A' 'C C']\n",
      "['G A' 'A A' 'G G']\n",
      "['C A' 'A A' 'C C']\n",
      "['A A' 'A G' 'G G']\n",
      "['A A' 'G G' 'G A']\n",
      "['G G' 'G A' 'A A']\n",
      "['A A' 'G A' 'G G']\n",
      "['G G' 'A G' 'A A']\n",
      "['A G' 'A A' 'G G']\n",
      "['A A' 'G A' 'G G']\n",
      "['A A' 'G G' 'A G']\n",
      "['A A' 'C C' 'C A']\n",
      "['A A' 'G G' 'G A']\n"
     ]
    }
   ],
   "source": [
    "col_train = train.columns\n",
    "\n",
    "for i in range(4, len(col_train)-1):\n",
    "    print(train[col_train[i]].unique())"
   ]
  },
  {
   "attachments": {},
   "cell_type": "markdown",
   "metadata": {},
   "source": [
    "공란으로 돼있는 열과 id칸 삭제"
   ]
  },
  {
   "cell_type": "code",
   "execution_count": 4,
   "metadata": {},
   "outputs": [],
   "source": [
    "def get_x_y(df):\n",
    "    if 'class' in df.columns:\n",
    "        df_x = df.drop(columns=['id', 'class'])\n",
    "        df_y = df['class']\n",
    "        return df_x, df_y\n",
    "    else:\n",
    "        df_x = df.drop(columns=['id'])\n",
    "        return df_x"
   ]
  },
  {
   "cell_type": "code",
   "execution_count": 5,
   "metadata": {},
   "outputs": [],
   "source": [
    "train_x, train_y = get_x_y(train)\n",
    "test_x = get_x_y(test)"
   ]
  },
  {
   "attachments": {},
   "cell_type": "markdown",
   "metadata": {},
   "source": [
    "LabelEncoder 과정"
   ]
  },
  {
   "cell_type": "code",
   "execution_count": 6,
   "metadata": {},
   "outputs": [
    {
     "data": {
      "text/html": [
       "<style>#sk-container-id-1 {color: black;background-color: white;}#sk-container-id-1 pre{padding: 0;}#sk-container-id-1 div.sk-toggleable {background-color: white;}#sk-container-id-1 label.sk-toggleable__label {cursor: pointer;display: block;width: 100%;margin-bottom: 0;padding: 0.3em;box-sizing: border-box;text-align: center;}#sk-container-id-1 label.sk-toggleable__label-arrow:before {content: \"▸\";float: left;margin-right: 0.25em;color: #696969;}#sk-container-id-1 label.sk-toggleable__label-arrow:hover:before {color: black;}#sk-container-id-1 div.sk-estimator:hover label.sk-toggleable__label-arrow:before {color: black;}#sk-container-id-1 div.sk-toggleable__content {max-height: 0;max-width: 0;overflow: hidden;text-align: left;background-color: #f0f8ff;}#sk-container-id-1 div.sk-toggleable__content pre {margin: 0.2em;color: black;border-radius: 0.25em;background-color: #f0f8ff;}#sk-container-id-1 input.sk-toggleable__control:checked~div.sk-toggleable__content {max-height: 200px;max-width: 100%;overflow: auto;}#sk-container-id-1 input.sk-toggleable__control:checked~label.sk-toggleable__label-arrow:before {content: \"▾\";}#sk-container-id-1 div.sk-estimator input.sk-toggleable__control:checked~label.sk-toggleable__label {background-color: #d4ebff;}#sk-container-id-1 div.sk-label input.sk-toggleable__control:checked~label.sk-toggleable__label {background-color: #d4ebff;}#sk-container-id-1 input.sk-hidden--visually {border: 0;clip: rect(1px 1px 1px 1px);clip: rect(1px, 1px, 1px, 1px);height: 1px;margin: -1px;overflow: hidden;padding: 0;position: absolute;width: 1px;}#sk-container-id-1 div.sk-estimator {font-family: monospace;background-color: #f0f8ff;border: 1px dotted black;border-radius: 0.25em;box-sizing: border-box;margin-bottom: 0.5em;}#sk-container-id-1 div.sk-estimator:hover {background-color: #d4ebff;}#sk-container-id-1 div.sk-parallel-item::after {content: \"\";width: 100%;border-bottom: 1px solid gray;flex-grow: 1;}#sk-container-id-1 div.sk-label:hover label.sk-toggleable__label {background-color: #d4ebff;}#sk-container-id-1 div.sk-serial::before {content: \"\";position: absolute;border-left: 1px solid gray;box-sizing: border-box;top: 0;bottom: 0;left: 50%;z-index: 0;}#sk-container-id-1 div.sk-serial {display: flex;flex-direction: column;align-items: center;background-color: white;padding-right: 0.2em;padding-left: 0.2em;position: relative;}#sk-container-id-1 div.sk-item {position: relative;z-index: 1;}#sk-container-id-1 div.sk-parallel {display: flex;align-items: stretch;justify-content: center;background-color: white;position: relative;}#sk-container-id-1 div.sk-item::before, #sk-container-id-1 div.sk-parallel-item::before {content: \"\";position: absolute;border-left: 1px solid gray;box-sizing: border-box;top: 0;bottom: 0;left: 50%;z-index: -1;}#sk-container-id-1 div.sk-parallel-item {display: flex;flex-direction: column;z-index: 1;position: relative;background-color: white;}#sk-container-id-1 div.sk-parallel-item:first-child::after {align-self: flex-end;width: 50%;}#sk-container-id-1 div.sk-parallel-item:last-child::after {align-self: flex-start;width: 50%;}#sk-container-id-1 div.sk-parallel-item:only-child::after {width: 0;}#sk-container-id-1 div.sk-dashed-wrapped {border: 1px dashed gray;margin: 0 0.4em 0.5em 0.4em;box-sizing: border-box;padding-bottom: 0.4em;background-color: white;}#sk-container-id-1 div.sk-label label {font-family: monospace;font-weight: bold;display: inline-block;line-height: 1.2em;}#sk-container-id-1 div.sk-label-container {text-align: center;}#sk-container-id-1 div.sk-container {/* jupyter's `normalize.less` sets `[hidden] { display: none; }` but bootstrap.min.css set `[hidden] { display: none !important; }` so we also need the `!important` here to be able to override the default hidden behavior on the sphinx rendered scikit-learn.org. See: https://github.com/scikit-learn/scikit-learn/issues/21755 */display: inline-block !important;position: relative;}#sk-container-id-1 div.sk-text-repr-fallback {display: none;}</style><div id=\"sk-container-id-1\" class=\"sk-top-container\"><div class=\"sk-text-repr-fallback\"><pre>LabelEncoder()</pre><b>In a Jupyter environment, please rerun this cell to show the HTML representation or trust the notebook. <br />On GitHub, the HTML representation is unable to render, please try loading this page with nbviewer.org.</b></div><div class=\"sk-container\" hidden><div class=\"sk-item\"><div class=\"sk-estimator sk-toggleable\"><input class=\"sk-toggleable__control sk-hidden--visually\" id=\"sk-estimator-id-1\" type=\"checkbox\" checked><label for=\"sk-estimator-id-1\" class=\"sk-toggleable__label sk-toggleable__label-arrow\">LabelEncoder</label><div class=\"sk-toggleable__content\"><pre>LabelEncoder()</pre></div></div></div></div></div>"
      ],
      "text/plain": [
       "LabelEncoder()"
      ]
     },
     "execution_count": 6,
     "metadata": {},
     "output_type": "execute_result"
    }
   ],
   "source": [
    "class_le = LabelEncoder()\n",
    "snp_le = LabelEncoder()\n",
    "snp_col = ['trait', 'SNP_01', 'SNP_02',\n",
    "       'SNP_03', 'SNP_04', 'SNP_05', 'SNP_06', 'SNP_07', 'SNP_08', 'SNP_09',\n",
    "       'SNP_10', 'SNP_11', 'SNP_12', 'SNP_13', 'SNP_14', 'SNP_15']\n",
    "snp_data = []\n",
    "for col in snp_col:\n",
    "    snp_data += list(train_x[col].values)\n",
    "    \n",
    "train_y = class_le.fit_transform(train_y)\n",
    "snp_le.fit(snp_data)"
   ]
  },
  {
   "cell_type": "code",
   "execution_count": 7,
   "metadata": {},
   "outputs": [],
   "source": [
    "for col in train_x.columns:\n",
    "    if col in snp_col:\n",
    "        train_x[col] = snp_le.transform(train_x[col])\n",
    "        test_x[col] = snp_le.transform(test_x[col])"
   ]
  },
  {
   "attachments": {},
   "cell_type": "markdown",
   "metadata": {},
   "source": [
    "snp_info 데이터셋 불러오기"
   ]
  },
  {
   "cell_type": "code",
   "execution_count": 8,
   "metadata": {},
   "outputs": [
    {
     "data": {
      "text/html": [
       "<div>\n",
       "<style scoped>\n",
       "    .dataframe tbody tr th:only-of-type {\n",
       "        vertical-align: middle;\n",
       "    }\n",
       "\n",
       "    .dataframe tbody tr th {\n",
       "        vertical-align: top;\n",
       "    }\n",
       "\n",
       "    .dataframe thead th {\n",
       "        text-align: right;\n",
       "    }\n",
       "</style>\n",
       "<table border=\"1\" class=\"dataframe\">\n",
       "  <thead>\n",
       "    <tr style=\"text-align: right;\">\n",
       "      <th></th>\n",
       "      <th>SNP_id</th>\n",
       "      <th>name</th>\n",
       "      <th>chrom</th>\n",
       "      <th>cm</th>\n",
       "      <th>pos</th>\n",
       "    </tr>\n",
       "  </thead>\n",
       "  <tbody>\n",
       "    <tr>\n",
       "      <th>0</th>\n",
       "      <td>SNP_01</td>\n",
       "      <td>BTA-19852-no-rs</td>\n",
       "      <td>2</td>\n",
       "      <td>67.05460</td>\n",
       "      <td>42986890</td>\n",
       "    </tr>\n",
       "    <tr>\n",
       "      <th>1</th>\n",
       "      <td>SNP_02</td>\n",
       "      <td>ARS-USMARC-Parent-DQ647190-rs29013632</td>\n",
       "      <td>6</td>\n",
       "      <td>31.15670</td>\n",
       "      <td>13897068</td>\n",
       "    </tr>\n",
       "    <tr>\n",
       "      <th>2</th>\n",
       "      <td>SNP_03</td>\n",
       "      <td>ARS-BFGL-NGS-117009</td>\n",
       "      <td>6</td>\n",
       "      <td>68.28920</td>\n",
       "      <td>44649549</td>\n",
       "    </tr>\n",
       "    <tr>\n",
       "      <th>3</th>\n",
       "      <td>SNP_04</td>\n",
       "      <td>ARS-BFGL-NGS-60567</td>\n",
       "      <td>6</td>\n",
       "      <td>77.87490</td>\n",
       "      <td>53826064</td>\n",
       "    </tr>\n",
       "    <tr>\n",
       "      <th>4</th>\n",
       "      <td>SNP_05</td>\n",
       "      <td>BovineHD0600017032</td>\n",
       "      <td>6</td>\n",
       "      <td>80.50150</td>\n",
       "      <td>61779512</td>\n",
       "    </tr>\n",
       "    <tr>\n",
       "      <th>5</th>\n",
       "      <td>SNP_06</td>\n",
       "      <td>BovineHD0600017424</td>\n",
       "      <td>6</td>\n",
       "      <td>80.59540</td>\n",
       "      <td>63048481</td>\n",
       "    </tr>\n",
       "    <tr>\n",
       "      <th>6</th>\n",
       "      <td>SNP_07</td>\n",
       "      <td>Hapmap49442-BTA-111073</td>\n",
       "      <td>6</td>\n",
       "      <td>80.78000</td>\n",
       "      <td>64037334</td>\n",
       "    </tr>\n",
       "    <tr>\n",
       "      <th>7</th>\n",
       "      <td>SNP_08</td>\n",
       "      <td>BovineHD0600018638</td>\n",
       "      <td>6</td>\n",
       "      <td>82.68560</td>\n",
       "      <td>67510588</td>\n",
       "    </tr>\n",
       "    <tr>\n",
       "      <th>8</th>\n",
       "      <td>SNP_09</td>\n",
       "      <td>ARS-BFGL-NGS-37727</td>\n",
       "      <td>6</td>\n",
       "      <td>86.87400</td>\n",
       "      <td>73092782</td>\n",
       "    </tr>\n",
       "    <tr>\n",
       "      <th>9</th>\n",
       "      <td>SNP_10</td>\n",
       "      <td>BTB-01558306</td>\n",
       "      <td>7</td>\n",
       "      <td>62.06920</td>\n",
       "      <td>40827112</td>\n",
       "    </tr>\n",
       "    <tr>\n",
       "      <th>10</th>\n",
       "      <td>SNP_11</td>\n",
       "      <td>ARS-BFGL-NGS-44247</td>\n",
       "      <td>8</td>\n",
       "      <td>97.17310</td>\n",
       "      <td>92485682</td>\n",
       "    </tr>\n",
       "    <tr>\n",
       "      <th>11</th>\n",
       "      <td>SNP_12</td>\n",
       "      <td>Hapmap32827-BTA-146530</td>\n",
       "      <td>9</td>\n",
       "      <td>62.74630</td>\n",
       "      <td>55007839</td>\n",
       "    </tr>\n",
       "    <tr>\n",
       "      <th>12</th>\n",
       "      <td>SNP_13</td>\n",
       "      <td>BTB-00395482</td>\n",
       "      <td>9</td>\n",
       "      <td>63.41810</td>\n",
       "      <td>59692848</td>\n",
       "    </tr>\n",
       "    <tr>\n",
       "      <th>13</th>\n",
       "      <td>SNP_14</td>\n",
       "      <td>Hapmap40256-BTA-84189</td>\n",
       "      <td>9</td>\n",
       "      <td>66.81970</td>\n",
       "      <td>72822507</td>\n",
       "    </tr>\n",
       "    <tr>\n",
       "      <th>14</th>\n",
       "      <td>SNP_15</td>\n",
       "      <td>BovineHD1000000224</td>\n",
       "      <td>10</td>\n",
       "      <td>1.78774</td>\n",
       "      <td>814291</td>\n",
       "    </tr>\n",
       "  </tbody>\n",
       "</table>\n",
       "</div>"
      ],
      "text/plain": [
       "    SNP_id                                   name  chrom        cm       pos\n",
       "0   SNP_01                        BTA-19852-no-rs      2  67.05460  42986890\n",
       "1   SNP_02  ARS-USMARC-Parent-DQ647190-rs29013632      6  31.15670  13897068\n",
       "2   SNP_03                    ARS-BFGL-NGS-117009      6  68.28920  44649549\n",
       "3   SNP_04                     ARS-BFGL-NGS-60567      6  77.87490  53826064\n",
       "4   SNP_05                     BovineHD0600017032      6  80.50150  61779512\n",
       "5   SNP_06                     BovineHD0600017424      6  80.59540  63048481\n",
       "6   SNP_07                 Hapmap49442-BTA-111073      6  80.78000  64037334\n",
       "7   SNP_08                     BovineHD0600018638      6  82.68560  67510588\n",
       "8   SNP_09                     ARS-BFGL-NGS-37727      6  86.87400  73092782\n",
       "9   SNP_10                           BTB-01558306      7  62.06920  40827112\n",
       "10  SNP_11                     ARS-BFGL-NGS-44247      8  97.17310  92485682\n",
       "11  SNP_12                 Hapmap32827-BTA-146530      9  62.74630  55007839\n",
       "12  SNP_13                           BTB-00395482      9  63.41810  59692848\n",
       "13  SNP_14                  Hapmap40256-BTA-84189      9  66.81970  72822507\n",
       "14  SNP_15                     BovineHD1000000224     10   1.78774    814291"
      ]
     },
     "execution_count": 8,
     "metadata": {},
     "output_type": "execute_result"
    }
   ],
   "source": [
    "info = pd.read_csv('snp_info.csv')\n",
    "info"
   ]
  },
  {
   "attachments": {},
   "cell_type": "markdown",
   "metadata": {},
   "source": [
    "chrom(염색체)별로 리스트 생성하기"
   ]
  },
  {
   "cell_type": "code",
   "execution_count": 9,
   "metadata": {},
   "outputs": [],
   "source": [
    "id = info['SNP_id']\n",
    "chrom_2 = []\n",
    "chrom_6 = []\n",
    "chrom_7 = []\n",
    "chrom_8 = []\n",
    "chrom_9 = []\n",
    "chrom_10 = []\n",
    "\n",
    "for i, j  in enumerate(info['chrom']):\n",
    "    if j == 2:\n",
    "        chrom_2.append(id[i])\n",
    "    elif j == 6:\n",
    "        chrom_6.append(id[i])\n",
    "    elif j == 7:\n",
    "        chrom_7.append(id[i])\n",
    "    elif j == 8:\n",
    "        chrom_8.append(id[i])\n",
    "    elif j == 9:\n",
    "        chrom_9.append(id[i])\n",
    "    else:\n",
    "        chrom_10.append(id[i])\n",
    "        "
   ]
  },
  {
   "attachments": {},
   "cell_type": "markdown",
   "metadata": {},
   "source": [
    "snp 분석에 사용되는 품종 구분은 특정 염색체와 관련이 있을 거라 추론하고 그룹을 만들어 가장 좋은 정확도를 보이는 그룹으로 결정"
   ]
  },
  {
   "cell_type": "code",
   "execution_count": 10,
   "metadata": {},
   "outputs": [
    {
     "name": "stdout",
     "output_type": "stream",
     "text": [
      "0.9124579124579125 ['SNP_01', 'SNP_02', 'SNP_03', 'SNP_04', 'SNP_05', 'SNP_06', 'SNP_07', 'SNP_08', 'SNP_09', 'SNP_10', 'trait']\n",
      "0.9293478260869565 ['SNP_01', 'SNP_02', 'SNP_03', 'SNP_04', 'SNP_05', 'SNP_06', 'SNP_07', 'SNP_08', 'SNP_09', 'SNP_11', 'trait']\n",
      "0.9107755662319835 ['SNP_01', 'SNP_02', 'SNP_03', 'SNP_04', 'SNP_05', 'SNP_06', 'SNP_07', 'SNP_08', 'SNP_09', 'SNP_12', 'SNP_13', 'SNP_14', 'trait']\n",
      "0.9136212624584719 ['SNP_01', 'SNP_02', 'SNP_03', 'SNP_04', 'SNP_05', 'SNP_06', 'SNP_07', 'SNP_08', 'SNP_09', 'SNP_15', 'trait']\n",
      "0.8885714285714287 ['SNP_01', 'SNP_10', 'SNP_11', 'trait']\n",
      "0.8750857927247769 ['SNP_01', 'SNP_10', 'SNP_12', 'SNP_13', 'SNP_14', 'trait']\n",
      "0.8626415094339622 ['SNP_01', 'SNP_10', 'SNP_15', 'trait']\n",
      "0.8142857142857142 ['SNP_01', 'SNP_11', 'SNP_12', 'SNP_13', 'SNP_14', 'trait']\n",
      "0.7621393384940184 ['SNP_01', 'SNP_11', 'SNP_15', 'trait']\n",
      "0.8514285714285714 ['SNP_01', 'SNP_12', 'SNP_13', 'SNP_14', 'SNP_15', 'trait']\n",
      "0.9107755662319835 ['SNP_02', 'SNP_03', 'SNP_04', 'SNP_05', 'SNP_06', 'SNP_07', 'SNP_08', 'SNP_09', 'SNP_10', 'SNP_11', 'trait']\n",
      "0.9638888888888889 ['SNP_02', 'SNP_03', 'SNP_04', 'SNP_05', 'SNP_06', 'SNP_07', 'SNP_08', 'SNP_09', 'SNP_10', 'SNP_12', 'SNP_13', 'SNP_14', 'trait']\n",
      "0.8940217391304347 ['SNP_02', 'SNP_03', 'SNP_04', 'SNP_05', 'SNP_06', 'SNP_07', 'SNP_08', 'SNP_09', 'SNP_10', 'SNP_15', 'trait']\n",
      "0.9277777777777777 ['SNP_02', 'SNP_03', 'SNP_04', 'SNP_05', 'SNP_06', 'SNP_07', 'SNP_08', 'SNP_09', 'SNP_11', 'SNP_12', 'SNP_13', 'SNP_14', 'trait']\n",
      "0.9293478260869565 ['SNP_02', 'SNP_03', 'SNP_04', 'SNP_05', 'SNP_06', 'SNP_07', 'SNP_08', 'SNP_09', 'SNP_11', 'SNP_15', 'trait']\n",
      "0.9646739130434782 ['SNP_02', 'SNP_03', 'SNP_04', 'SNP_05', 'SNP_06', 'SNP_07', 'SNP_08', 'SNP_09', 'SNP_12', 'SNP_13', 'SNP_14', 'SNP_15', 'trait']\n",
      "0.8916666666666666 ['SNP_10', 'SNP_11', 'SNP_12', 'SNP_13', 'SNP_14', 'trait']\n",
      "0.8626415094339622 ['SNP_10', 'SNP_11', 'SNP_15', 'trait']\n",
      "0.8719211822660098 ['SNP_10', 'SNP_12', 'SNP_13', 'SNP_14', 'SNP_15', 'trait']\n",
      "0.8916666666666666 ['SNP_11', 'SNP_12', 'SNP_13', 'SNP_14', 'SNP_15', 'trait']\n",
      "0.8940217391304347 ['SNP_01', 'SNP_02', 'SNP_03', 'SNP_04', 'SNP_05', 'SNP_06', 'SNP_07', 'SNP_08', 'SNP_09', 'SNP_10', 'SNP_11', 'trait']\n",
      "0.9107755662319835 ['SNP_01', 'SNP_02', 'SNP_03', 'SNP_04', 'SNP_05', 'SNP_06', 'SNP_07', 'SNP_08', 'SNP_09', 'SNP_10', 'SNP_12', 'SNP_13', 'SNP_14', 'trait']\n",
      "0.9304812834224597 ['SNP_01', 'SNP_02', 'SNP_03', 'SNP_04', 'SNP_05', 'SNP_06', 'SNP_07', 'SNP_08', 'SNP_09', 'SNP_10', 'SNP_15', 'trait']\n",
      "0.9464653397391901 ['SNP_01', 'SNP_02', 'SNP_03', 'SNP_04', 'SNP_05', 'SNP_06', 'SNP_07', 'SNP_08', 'SNP_09', 'SNP_11', 'SNP_12', 'SNP_13', 'SNP_14', 'trait']\n",
      "0.9293478260869565 ['SNP_01', 'SNP_02', 'SNP_03', 'SNP_04', 'SNP_05', 'SNP_06', 'SNP_07', 'SNP_08', 'SNP_09', 'SNP_11', 'SNP_15', 'trait']\n",
      "0.9474747474747475 ['SNP_01', 'SNP_02', 'SNP_03', 'SNP_04', 'SNP_05', 'SNP_06', 'SNP_07', 'SNP_08', 'SNP_09', 'SNP_12', 'SNP_13', 'SNP_14', 'SNP_15', 'trait']\n",
      "0.8916666666666666 ['SNP_01', 'SNP_10', 'SNP_11', 'SNP_12', 'SNP_13', 'SNP_14', 'trait']\n",
      "0.8626415094339622 ['SNP_01', 'SNP_10', 'SNP_11', 'SNP_15', 'trait']\n",
      "0.90559186637618 ['SNP_01', 'SNP_10', 'SNP_12', 'SNP_13', 'SNP_14', 'SNP_15', 'trait']\n",
      "0.8514285714285714 ['SNP_01', 'SNP_11', 'SNP_12', 'SNP_13', 'SNP_14', 'SNP_15', 'trait']\n",
      "0.9638888888888889 ['SNP_02', 'SNP_03', 'SNP_04', 'SNP_05', 'SNP_06', 'SNP_07', 'SNP_08', 'SNP_09', 'SNP_10', 'SNP_11', 'SNP_12', 'SNP_13', 'SNP_14', 'trait']\n",
      "0.9257142857142857 ['SNP_02', 'SNP_03', 'SNP_04', 'SNP_05', 'SNP_06', 'SNP_07', 'SNP_08', 'SNP_09', 'SNP_10', 'SNP_11', 'SNP_15', 'trait']\n",
      "0.9638888888888889 ['SNP_02', 'SNP_03', 'SNP_04', 'SNP_05', 'SNP_06', 'SNP_07', 'SNP_08', 'SNP_09', 'SNP_10', 'SNP_12', 'SNP_13', 'SNP_14', 'SNP_15', 'trait']\n",
      "0.9638888888888889 ['SNP_02', 'SNP_03', 'SNP_04', 'SNP_05', 'SNP_06', 'SNP_07', 'SNP_08', 'SNP_09', 'SNP_11', 'SNP_12', 'SNP_13', 'SNP_14', 'SNP_15', 'trait']\n",
      "0.9085151301900071 ['SNP_10', 'SNP_11', 'SNP_12', 'SNP_13', 'SNP_14', 'SNP_15', 'trait']\n"
     ]
    }
   ],
   "source": [
    "chrom = [chrom_2, chrom_6, chrom_7, chrom_8, chrom_9, chrom_10]\n",
    "\n",
    "# 염색체 3개 그룹씩 묶기\n",
    "comb_3_chrom = list(combinations(chrom, 3))\n",
    "# 염색체 4개 그룹씩 묶기\n",
    "comb_4_chrom = list(combinations(chrom, 4))\n",
    "# 전체 그룹 리스트로 생성\n",
    "comb_chrom = comb_3_chrom + comb_4_chrom\n",
    "\n",
    "model_list = []\n",
    "for i in comb_chrom:\n",
    "    snp_group = list(itertools.chain(*i))\n",
    "    snp_group.append('trait')\n",
    "    x = train_x[snp_group]\n",
    "    x_train, x_test, y_train, y_test = train_test_split(x, train_y,\n",
    "    test_size=0.2, random_state=42)\n",
    "\n",
    "    xgb= XGBClassifier()\n",
    "    xgb_param_grid={\n",
    "    'n_estimators' : [100,200,300,400,500, 600],\n",
    "    'learning_rate' : [0.01,0.05,0.1],\n",
    "    'max_depth' : [2, 3, 4, 5]\n",
    "    }\n",
    "    xgb_grid=GridSearchCV(xgb, param_grid = xgb_param_grid, scoring=\"f1_macro\", cv=5)\n",
    "    xgb_grid.fit(x_train, y_train)\n",
    "    \n",
    "    model = xgb_grid.best_estimator_\n",
    "    pred = model.predict(x_test)\n",
    "    from sklearn import metrics\n",
    "    print(metrics.f1_score(pred, y_test, average='macro'), snp_group)\n",
    "    model_list.append(model)"
   ]
  },
  {
   "cell_type": "code",
   "execution_count": 11,
   "metadata": {},
   "outputs": [
    {
     "name": "stdout",
     "output_type": "stream",
     "text": [
      "0.9638888888888889\n"
     ]
    }
   ],
   "source": [
    "# 모든 염색체 사용\n",
    "all_chrom =['SNP_01', 'SNP_02',\n",
    "       'SNP_03', 'SNP_04', 'SNP_05', 'SNP_06', 'SNP_07', 'SNP_08', 'SNP_09',\n",
    "       'SNP_10', 'SNP_11', 'SNP_12', 'SNP_13', 'SNP_14', 'SNP_15', 'trait']\n",
    "\n",
    "x = train_x[all_chrom]\n",
    "x_train, x_test, y_train, y_test = train_test_split(x, train_y,\n",
    "test_size=0.2, random_state=42)\n",
    "\n",
    "xgb= XGBClassifier()\n",
    "xgb_param_grid={\n",
    "'n_estimators' : [100,200,300,400,500, 600],\n",
    "'learning_rate' : [0.01,0.05,0.1],\n",
    "'max_depth' : [2, 3, 4, 5]\n",
    "}\n",
    "xgb_grid=GridSearchCV(xgb, param_grid = xgb_param_grid, scoring=\"f1_macro\", cv=5)\n",
    "xgb_grid.fit(x_train, y_train)\n",
    "\n",
    "model = xgb_grid.best_estimator_\n",
    "pred = model.predict(x_test)\n",
    "from sklearn import metrics\n",
    "print(metrics.f1_score(pred, y_test, average='macro'))\n",
    "model_list.append(model)\n"
   ]
  },
  {
   "cell_type": "code",
   "execution_count": 12,
   "metadata": {},
   "outputs": [],
   "source": [
    "## 0.9646739130434782 ['SNP_02', 'SNP_03', 'SNP_04', 'SNP_05', 'SNP_06', 'SNP_07', 'SNP_08', 'SNP_09', 'SNP_12', 'SNP_13', 'SNP_14', 'SNP_15', 'trait'], model_list[15]가 macro score가 가장 높은 것을 확인\n",
    "# 즉 염색체 6, 9, 10이 최적의 그룹으로 선정"
   ]
  },
  {
   "attachments": {},
   "cell_type": "markdown",
   "metadata": {},
   "source": [
    "최적의 그룹으로 선정된 열을 제외한 나머지 염색체 drop"
   ]
  },
  {
   "cell_type": "code",
   "execution_count": 13,
   "metadata": {},
   "outputs": [],
   "source": [
    "test_drop = test_x[['SNP_02', 'SNP_03', 'SNP_04', 'SNP_05', 'SNP_06',\n",
    "       'SNP_07', 'SNP_08', 'SNP_09', 'SNP_12', 'SNP_13', 'SNP_14', 'SNP_15', 'trait']]"
   ]
  },
  {
   "cell_type": "code",
   "execution_count": 14,
   "metadata": {},
   "outputs": [
    {
     "data": {
      "text/html": [
       "<div>\n",
       "<style scoped>\n",
       "    .dataframe tbody tr th:only-of-type {\n",
       "        vertical-align: middle;\n",
       "    }\n",
       "\n",
       "    .dataframe tbody tr th {\n",
       "        vertical-align: top;\n",
       "    }\n",
       "\n",
       "    .dataframe thead th {\n",
       "        text-align: right;\n",
       "    }\n",
       "</style>\n",
       "<table border=\"1\" class=\"dataframe\">\n",
       "  <thead>\n",
       "    <tr style=\"text-align: right;\">\n",
       "      <th></th>\n",
       "      <th>id</th>\n",
       "      <th>class</th>\n",
       "    </tr>\n",
       "  </thead>\n",
       "  <tbody>\n",
       "    <tr>\n",
       "      <th>0</th>\n",
       "      <td>TEST_000</td>\n",
       "      <td>A</td>\n",
       "    </tr>\n",
       "    <tr>\n",
       "      <th>1</th>\n",
       "      <td>TEST_001</td>\n",
       "      <td>B</td>\n",
       "    </tr>\n",
       "    <tr>\n",
       "      <th>2</th>\n",
       "      <td>TEST_002</td>\n",
       "      <td>C</td>\n",
       "    </tr>\n",
       "    <tr>\n",
       "      <th>3</th>\n",
       "      <td>TEST_003</td>\n",
       "      <td>C</td>\n",
       "    </tr>\n",
       "    <tr>\n",
       "      <th>4</th>\n",
       "      <td>TEST_004</td>\n",
       "      <td>A</td>\n",
       "    </tr>\n",
       "    <tr>\n",
       "      <th>...</th>\n",
       "      <td>...</td>\n",
       "      <td>...</td>\n",
       "    </tr>\n",
       "    <tr>\n",
       "      <th>170</th>\n",
       "      <td>TEST_170</td>\n",
       "      <td>B</td>\n",
       "    </tr>\n",
       "    <tr>\n",
       "      <th>171</th>\n",
       "      <td>TEST_171</td>\n",
       "      <td>C</td>\n",
       "    </tr>\n",
       "    <tr>\n",
       "      <th>172</th>\n",
       "      <td>TEST_172</td>\n",
       "      <td>C</td>\n",
       "    </tr>\n",
       "    <tr>\n",
       "      <th>173</th>\n",
       "      <td>TEST_173</td>\n",
       "      <td>B</td>\n",
       "    </tr>\n",
       "    <tr>\n",
       "      <th>174</th>\n",
       "      <td>TEST_174</td>\n",
       "      <td>B</td>\n",
       "    </tr>\n",
       "  </tbody>\n",
       "</table>\n",
       "<p>175 rows × 2 columns</p>\n",
       "</div>"
      ],
      "text/plain": [
       "           id class\n",
       "0    TEST_000     A\n",
       "1    TEST_001     B\n",
       "2    TEST_002     C\n",
       "3    TEST_003     C\n",
       "4    TEST_004     A\n",
       "..        ...   ...\n",
       "170  TEST_170     B\n",
       "171  TEST_171     C\n",
       "172  TEST_172     C\n",
       "173  TEST_173     B\n",
       "174  TEST_174     B\n",
       "\n",
       "[175 rows x 2 columns]"
      ]
     },
     "execution_count": 14,
     "metadata": {},
     "output_type": "execute_result"
    }
   ],
   "source": [
    "pred = model_list[15].predict(test_drop)\n",
    "\n",
    "sample = pd.read_csv('sample_submission.csv')\n",
    "sample['class'] = class_le.inverse_transform(pred)\n",
    "sample"
   ]
  },
  {
   "attachments": {},
   "cell_type": "markdown",
   "metadata": {},
   "source": [
    "파일 제출"
   ]
  },
  {
   "cell_type": "code",
   "execution_count": 15,
   "metadata": {},
   "outputs": [],
   "source": [
    "sample.to_csv('submission.csv', index=None)"
   ]
  }
 ],
 "metadata": {
  "kernelspec": {
   "display_name": "conda",
   "language": "python",
   "name": "conda"
  },
  "language_info": {
   "codemirror_mode": {
    "name": "ipython",
    "version": 3
   },
   "file_extension": ".py",
   "mimetype": "text/x-python",
   "name": "python",
   "nbconvert_exporter": "python",
   "pygments_lexer": "ipython3",
   "version": "3.10.2"
  },
  "orig_nbformat": 4,
  "vscode": {
   "interpreter": {
    "hash": "cff341f32e69ed0bfa35abf45aceb5eb74a865acad3c35b7769dbac804b7b303"
   }
  }
 },
 "nbformat": 4,
 "nbformat_minor": 2
}
