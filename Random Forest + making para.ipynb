{
  "cells": [
    {
      "cell_type": "markdown",
      "id": "01004d53",
      "metadata": {
        "id": "01004d53"
      },
      "source": [
        "## 패키지 임포트"
      ]
    },
    {
      "cell_type": "code",
      "execution_count": null,
      "id": "592aa9f6",
      "metadata": {
        "id": "592aa9f6"
      },
      "outputs": [],
      "source": [
        "import pandas as pd\n",
        "import random\n",
        "import os\n",
        "\n",
        "import numpy as np\n",
        "import sklearn\n",
        "from sklearn import preprocessing\n",
        "from sklearn.ensemble import RandomForestClassifier\n",
        "\n",
        "import scipy\n",
        "from scipy.stats import chisquare #EDA에서 사용한 모듈\n"
      ]
    },
    {
      "cell_type": "markdown",
      "id": "844f18d3",
      "metadata": {
        "id": "844f18d3"
      },
      "source": [
        "## 데이터 입출력 경로"
      ]
    },
    {
      "cell_type": "code",
      "execution_count": null,
      "id": "1bf90590",
      "metadata": {
        "id": "1bf90590"
      },
      "outputs": [],
      "source": [
        "train = pd.read_csv('./train.csv')\n",
        "test = pd.read_csv('./test.csv')"
      ]
    },
    {
      "cell_type": "markdown",
      "id": "c32c91e2",
      "metadata": {
        "id": "c32c91e2"
      },
      "source": [
        "## 랜덤시드 고정"
      ]
    },
    {
      "cell_type": "code",
      "execution_count": null,
      "id": "b05e34ab",
      "metadata": {
        "id": "b05e34ab"
      },
      "outputs": [],
      "source": [
        "#baseline과 동일합니다. \n",
        "class CFG:\n",
        "    SEED = 42\n",
        "def seed_everything(seed):\n",
        "    random.seed(seed) \n",
        "    os.environ['PYTHONHASHSEED'] = str(seed)\n",
        "    np.random.seed(seed)\n",
        "seed_everything(CFG.SEED)\n",
        "\n"
      ]
    },
    {
      "cell_type": "markdown",
      "id": "a441eac3",
      "metadata": {
        "id": "a441eac3"
      },
      "source": [
        "## 데이터 EDA\n",
        "- 데이터 EDA를 통해 알고자 한 것은 다음과 같습니다.\n",
        "- \"어떤 변수가 각 종을 분류하는데에 결정적인 역할을 하는가?\"\n",
        "- 이를 다음 두 가지 질문으로 세분화했습니다. \n",
        "    1. 종에 따라, 각 변수의 비율이 어떻게 다른가? \n",
        "    2. 각 종에서, 어떤 SNP끼리 독립이 아닌가? \n",
        "      \n",
        "- 1번 질문에 답하고자, 종별로 나누어서 각 변수의 도수분포표를 구했습니다. 이를 통해, B, C그룹이 유전적으로 가깝다는 것을 확인했습니다. 또한, 동질성 검정을 했습니다. 그 결과, 모든 SNP에서 그룹(A, B, C) 간 차이가 있다는 것을 확인했습니다.  \n",
        "- 2번 질문에 답하고자, 그룹 별로 나누어서 독립성 검정을 했습니다. 그 결과, 각 그룹에서 독립이 아닌 SNP 쌍을 찾아낼 수 있었습니다. \n",
        "- 이 중, 각 그룹에서 독립인 SNP쌍이 있고 아닌 SNP쌍이 있다는 점에 집중해서 추가 변수를 생성했습니다. \n",
        "- 최종 코드에서 사용한 것은 독립성 검정 결과이므로 이 코드만 첨부합니다. "
      ]
    },
    {
      "cell_type": "code",
      "execution_count": null,
      "id": "fbe32387",
      "metadata": {
        "id": "fbe32387"
      },
      "outputs": [],
      "source": [
        "#종별로 데이터셋 분할.\n",
        "groups=train.drop(columns=[\"id\",\"father\",\"mother\",\"gender\"]).groupby(train[\"class\"])\n",
        "\n",
        "train_x_A=groups.get_group(\"A\") \n",
        "train_x_B=groups.get_group(\"B\") \n",
        "train_x_C=groups.get_group(\"C\") \n"
      ]
    },
    {
      "cell_type": "code",
      "execution_count": null,
      "id": "344eccb5",
      "metadata": {
        "id": "344eccb5"
      },
      "outputs": [],
      "source": [
        "#독립성 검정 함수를 만들어서 각 데이터셋에 적용. \n",
        "def independence_test(rawdata):\n",
        "    dataset=rawdata.drop(columns=[\"trait\",\"class\"])\n",
        "    snp_list=dataset.columns\n",
        "    h0_snp=[]\n",
        "    for snp_i1 in range(15):\n",
        "        snp1=snp_list[snp_i1]\n",
        "        for snp_i2 in range(14)[snp_i1+1:]:\n",
        "\n",
        "            snp2=snp_list[snp_i2]\n",
        "            b=dataset[[snp1,snp2]]\n",
        "            print(snp1,snp2)\n",
        "            \n",
        "            #관측도수 구하기\n",
        "            O=pd.crosstab(b[snp1],b[snp2])\n",
        "\n",
        "            #변수명\n",
        "            group=O.columns\n",
        "            acid=O.index\n",
        "\n",
        "            #기대도수 구하기\n",
        "            class_sum=O.sum()\n",
        "            c=list(class_sum)\n",
        "            full_sum=class_sum.sum()\n",
        "            snp_sum=O.sum(axis=1)\n",
        "            s=list(snp_sum)\n",
        "\n",
        "            E_=np.outer(s, c/full_sum, out=None)\n",
        "            E=pd.DataFrame(E_,index=acid,columns=group)\n",
        "            result = chisquare(O, f_exp=E,axis=None)\n",
        "            print(f\"H0: {snp1}과 {snp2} 간 상관관계가 없다. \")\n",
        "            if result.pvalue<=0.025:\n",
        "                \n",
        "                print(\"유의확률은\",result.pvalue,\"로 귀무가설을 기각했습니다.\")\n",
        "                h0_snp.append([snp1,snp2])\n",
        "\n",
        "    print(h0_snp)"
      ]
    },
    {
      "cell_type": "code",
      "execution_count": null,
      "id": "c6af3839",
      "metadata": {
        "id": "c6af3839"
      },
      "outputs": [],
      "source": [
        "#독립성 검정(A)\n",
        "#independence_test(train_x_A)"
      ]
    },
    {
      "cell_type": "code",
      "execution_count": null,
      "id": "4821680c",
      "metadata": {
        "id": "4821680c"
      },
      "outputs": [],
      "source": [
        "#독립성 검정(B)\n",
        "#independence_test(train_x_B)"
      ]
    },
    {
      "cell_type": "code",
      "execution_count": null,
      "id": "1bd02d84",
      "metadata": {
        "id": "1bd02d84"
      },
      "outputs": [],
      "source": [
        "#독립성 검정(C)\n",
        "#independence_test(train_x_C)"
      ]
    },
    {
      "cell_type": "markdown",
      "source": [
        "**결론은 다음과 같습니다.**\n",
        "\n",
        "* A에서는 [['SNP_04', 'SNP_09'], ['SNP_05', 'SNP_06'], ['SNP_05', 'SNP_07'], ['SNP_06', 'SNP_07']]가 독립이 아닌 쌍이다. \n",
        "* B에서는 [['SNP_08', 'SNP_09']]가 독립이 아닌 쌍이다. \n",
        "* C에서는 [['SNP_03', 'SNP_05'], ['SNP_05', 'SNP_08'], ['SNP_06', 'SNP_08'], ['SNP_06', 'SNP_10'], ['SNP_07', 'SNP_08']]가 독립이 아닌 쌍이다.\n",
        "  \n",
        " \n",
        "\n",
        "**보다 엄격한 검정을 위해 p-value는 0.025로 설정했습니다.**"
      ],
      "metadata": {
        "id": "JWzykmVEmmSS"
      },
      "id": "JWzykmVEmmSS"
    },
    {
      "cell_type": "markdown",
      "id": "c1563863",
      "metadata": {
        "id": "c1563863"
      },
      "source": [
        "## 데이터 전처리(1)\n",
        "- 추가 변수 생성 \n",
        "    - EDA를 통해 각 그룹(A, B, C)에서 독립이 아닌 쌍을 모두 찾았습니다. \n",
        "    - 찾은 쌍들의 염기를 단순하게 이어붙여서, 새로운 변수로 추가했습니다. \n",
        "    - 예) SNP_8과 SNP_9가 A에서 독립이 아닌 쌍이라는 결론이 났다면->snp_8_9에는 SNP_8과 SNP_9의 값을 합친 문자열이 들어갑니다. \n",
        "    -(예: SNP_8이 \"AA\", SNP_9가 \"GG\"라면 snp_8_9는 \"AA GG\")\n",
        "- [\"id\",\"father\",\"mother\",\"gender\"] 변수 제거\n",
        "    - 의미없는 변수이므로 제거합니다."
      ]
    },
    {
      "cell_type": "code",
      "execution_count": null,
      "id": "2eb8fecf",
      "metadata": {
        "id": "2eb8fecf"
      },
      "outputs": [],
      "source": [
        "def preprocessing_(data):\n",
        "    #변수 제거\n",
        "    data_drop=data.drop(columns=[\"id\",\"father\",\"mother\",\"gender\"])\n",
        "    \n",
        "    #추가변수 생성\n",
        "    \n",
        "    new_var_list=[\"snp_4_9\", \"snp_5_6\",\"snp_5_7\", \"snp_8_9\", \"snp_3_5\", \"snp_5_8\", \"snp_6_8\", \"snp_6_10\",\"snp_7_8\"]\n",
        "    ##new_var_list: 새로 만들 변수의 이름을 넣은 리스트. \n",
        "    \n",
        "    for new_var in new_var_list:\n",
        "        data_drop[new_var]=[\"Z\"]*len(data_drop) #추가변수 값을 초기화. \n",
        "\n",
        "    ##추가변수 값 채워넣기. \n",
        "    data_drop[\"snp_4_9\"]=data_drop[\"SNP_04\"]+data_drop[\"SNP_09\"]\n",
        "    data_drop[\"snp_5_6\"]=data_drop[\"SNP_05\"]+data_drop[\"SNP_06\"]\n",
        "    data_drop[\"snp_5_7\"]=data_drop[\"SNP_05\"]+data_drop[\"SNP_07\"]\n",
        "    data_drop[\"snp_8_9\"]=data_drop[\"SNP_08\"]+data_drop[\"SNP_09\"]\n",
        "    data_drop[\"snp_3_5\"]=data_drop[\"SNP_03\"]+data_drop[\"SNP_05\"]\n",
        "    data_drop[\"snp_5_8\"]=data_drop[\"SNP_05\"]+data_drop[\"SNP_08\"]\n",
        "    data_drop[\"snp_6_8\"]=data_drop[\"SNP_06\"]+data_drop[\"SNP_08\"]\n",
        "    data_drop[\"snp_6_10\"]=data_drop[\"SNP_06\"]+data_drop[\"SNP_10\"]\n",
        "    data_drop[\"snp_7_8\"]=data_drop[\"SNP_07\"]+data_drop[\"SNP_08\"]\n",
        "    data_drop[\"snp_3_5\"]=data_drop[\"SNP_03\"]+data_drop[\"SNP_05\"]\n",
        "    data_drop[\"snp_5_8\"]=data_drop[\"SNP_05\"]+data_drop[\"SNP_08\"]\n",
        "    data_drop[\"snp_6_8\"]=data_drop[\"SNP_06\"]+data_drop[\"SNP_08\"]\n",
        "    data_drop[\"snp_6_10\"]=data_drop[\"SNP_06\"]+data_drop[\"SNP_10\"]\n",
        "    data_drop[\"snp_7_8\"]=data_drop[\"SNP_07\"]+data_drop[\"SNP_08\"]\n",
        "    \n",
        "    #train, test셋 나누기.\n",
        "    if \"class\" in data.columns:\n",
        "        df_x = data_drop.drop(columns=['class'])\n",
        "        df_y = data_drop['class']\n",
        "        return df_x, df_y\n",
        "    else: #test 데이터에서 id를 drop하고 x 구하기\n",
        "        df_x = data_drop\n",
        "        return df_x"
      ]
    },
    {
      "cell_type": "code",
      "execution_count": null,
      "id": "6959ead9",
      "metadata": {
        "id": "6959ead9"
      },
      "outputs": [],
      "source": [
        "train_x, train_y = preprocessing_(train) \n",
        "test_x = preprocessing_(test) "
      ]
    },
    {
      "cell_type": "markdown",
      "id": "da0b7784",
      "metadata": {
        "id": "da0b7784"
      },
      "source": [
        "## 데이터 전처리(2)\n",
        "- 데이터 라벨링"
      ]
    },
    {
      "cell_type": "code",
      "execution_count": null,
      "id": "f9575deb",
      "metadata": {
        "id": "f9575deb"
      },
      "outputs": [],
      "source": [
        "#SNP_01~SNP_15 라벨링\n",
        "class_le = preprocessing.LabelEncoder()\n",
        "snp_le = preprocessing.LabelEncoder()\n",
        "snp_col = [f'SNP_{str(x).zfill(2)}' for x in range(1,16)] \n",
        "\n",
        "snp_data = []\n",
        "for col in snp_col:\n",
        "    snp_data += list(train_x[col].values) \n",
        "\n",
        "train_y = class_le.fit_transform(train_y) \n",
        "snp_le.fit(snp_data)\n",
        "\n",
        "for col in train_x.columns:\n",
        "    if col in snp_col: \n",
        "        train_x[col] = snp_le.transform(train_x[col])\n",
        "        test_x[col] = snp_le.transform(test_x[col])"
      ]
    },
    {
      "cell_type": "code",
      "execution_count": null,
      "id": "7cfe3584",
      "metadata": {
        "id": "7cfe3584"
      },
      "outputs": [],
      "source": [
        "#추가변수 라벨링\n",
        "snp_le_pair = preprocessing.LabelEncoder()\n",
        "snp_col_pair = list(train_x.columns[16:])\n",
        "\n",
        "\n",
        "snp_data_pair = []\n",
        "for col in snp_col_pair:\n",
        "    snp_data_pair += list(train_x[col].values) \n",
        "\n",
        "snp_le_pair.fit(snp_data_pair) \n",
        "\n",
        "for col in train_x.columns:\n",
        "    if col in snp_col_pair: \n",
        "        train_x[col] = snp_le_pair.transform(train_x[col])\n",
        "        test_x[col] = snp_le_pair.transform(test_x[col])"
      ]
    },
    {
      "cell_type": "markdown",
      "id": "4b1290eb",
      "metadata": {
        "id": "4b1290eb"
      },
      "source": [
        "## 모델 적합시키기\n",
        "- 랜덤서치를 통해 모델의 하이퍼파라미터 조정도 하였으나, 데이터셋이 작아서 오히려 과적합이 일어났습니다.\n",
        "- 그래서 아무런 조정을 하지 않은 랜덤 포레스트 모델을 사용했습니다."
      ]
    },
    {
      "cell_type": "code",
      "execution_count": null,
      "id": "db5faf64",
      "metadata": {
        "id": "db5faf64"
      },
      "outputs": [],
      "source": [
        "clf = RandomForestClassifier(random_state=CFG.SEED) \n",
        "clf.fit(train_x, train_y)"
      ]
    },
    {
      "cell_type": "markdown",
      "id": "0d3d2812",
      "metadata": {
        "id": "0d3d2812"
      },
      "source": [
        "## 결과값 도출하기"
      ]
    },
    {
      "cell_type": "code",
      "execution_count": null,
      "id": "7b52422b",
      "metadata": {
        "id": "7b52422b"
      },
      "outputs": [],
      "source": [
        "preds = clf.predict(test_x)\n",
        "print('Done.')"
      ]
    },
    {
      "cell_type": "code",
      "execution_count": null,
      "id": "93d8a7fd",
      "metadata": {
        "id": "93d8a7fd"
      },
      "outputs": [],
      "source": [
        "submit = pd.read_csv('./sample_submission.csv')"
      ]
    },
    {
      "cell_type": "code",
      "execution_count": null,
      "id": "8fe887ea",
      "metadata": {
        "id": "8fe887ea"
      },
      "outputs": [],
      "source": [
        "submit['class'] = class_le.inverse_transform(preds)"
      ]
    },
    {
      "cell_type": "code",
      "execution_count": null,
      "id": "ba86d53c",
      "metadata": {
        "id": "ba86d53c"
      },
      "outputs": [],
      "source": [
        "submit.to_csv(\"./result.csv\",index=False)"
      ]
    }
  ],
  "metadata": {
    "kernelspec": {
      "display_name": "Python 3 (ipykernel)",
      "language": "python",
      "name": "python3"
    },
    "language_info": {
      "codemirror_mode": {
        "name": "ipython",
        "version": 3
      },
      "file_extension": ".py",
      "mimetype": "text/x-python",
      "name": "python",
      "nbconvert_exporter": "python",
      "pygments_lexer": "ipython3",
      "version": "3.10.3"
    },
    "colab": {
      "provenance": []
    }
  },
  "nbformat": 4,
  "nbformat_minor": 5
}